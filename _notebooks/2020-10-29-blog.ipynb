{
 "cells": [
  {
   "cell_type": "raw",
   "metadata": {},
   "source": [
    "# Cross Entropy and Maximum Likelihood Estimation\n",
    "> In this article, I will discuss what Cross Entropy means from an information theoretical point of view and how it relates to key concepts in Machine Learning, including the log-loss cost function in linear regression classification and parameter estimation. \n",
    "\n",
    "- toc: true\n",
    "- branch: master\n",
    "- badges: true\n",
    "- comments: true\n",
    "- categories: [Tutorial, Information Theory, Cost Function, Maximum Likelihood Estimation, Entropy, Cross Entropy, Log-loss Function, Kullback-Leibler Divergence]\n",
    "- image: images/graphs_cross_entropy.png\n",
    "- hide: false\n",
    "- search_exclude: true\n",
    "- metadata_key1: metadata_value1\n",
    "- metadata_key2: metadata_value2"
   ]
  },
  {
   "cell_type": "markdown",
   "metadata": {},
   "source": [
    "## Introduction\n",
    "\n",
    "Entropy in Thermodynamics is a measure of a system's disorder: the higher the disorder, the greater the entropy. Information can also be seen as a form of entropic measure. Information that is \"unordered\", that is, which is highly uncertain, presents us with more surprise than well-established, organized facts. It is hence more \"informative\".\n",
    "\n",
    "It is also of interest to note that such concepts in Thermodynamics as the Gibbs Free Energy (the enthalpy minus the product of the temperature and the entropy) have corresponding properties, quantities and concepts in Information Theory. And this is not by chance, as the arrangement and the evolution of the state of matter conveys information and, ultimately, tweaking with the properties of matter is how information is conveyed. Think about the way digital information is relayed. The standard is to have it transmitted via fluctuations in electromagnetic waves. These waves are said to be modulated by the data.\n",
    "\n",
    "That is not the end of it. Information Theory finds its way also in Machine Learning. Machine Learning is the science of finding patterns, of trying to elicit information from that which we observe. I did not use the word information by chance, as the role of models, independent variables, and parameter estimation (in the traditional sense of maximum-likelihood estimation) is to obtain from a complex observation its essentials for prognostics, prediction, clustering, and a myriad of other applications.\n",
    "\n",
    "In what follows, we will explore one very interesting quantity: the cross entropy. We will see that its main virtue is to compare a model to experimental data and to tell how much excess information is required for modeling data with a probability distribution different to the true ditribution of the data. "
   ]
  },
  {
   "cell_type": "markdown",
   "metadata": {},
   "source": [
    "## Entropy as a Measure of Uncertainty\n",
    "\n",
    "In order to understand cross entropy, we must first lay out the foundations of entropy. This quantity is a description of the uncertainty of a random variable. We want to measure how uncertain a probabilistic event is. Essentially, the more unlikely an event is, the more surprising it is and, consequently, the more information it holds. To say that it is raining now contains no information. It is a certain event that bears no surprise. However, to say that there is a $35$% probability that it will rain tomorrow does contain information. If we were faced instead with a probability of $50$% that it will rain, would we be more or less certain of tomorrow's weather? It seems reasonable to say that we would be less certain, because the $35$% probability of rain implies a probability of $65$% of no rain, whilst $50$% either way essentially leaves us with the most amount of doubt possible. This is an essential aspect of entropy: it is maximized for equally-likely events. Another illustrative example is a biased die and a fair die. Let us imagine that the biased die is heavily biased towards the six-dotted side such that for this die's events $\\{1,2,3,4,5,6\\}$, the corresponding set of probabilities is given by \n",
    "\n",
    "$$\n",
    "\\begin{equation}\n",
    "\\left\\lbrace \\frac{1}{12},\\frac{1}{12},\\frac{1}{12},\\frac{1}{12},\\frac{1}{12}, \\frac{7}{12} \\right\\rbrace\n",
    "\\end{equation} \n",
    "$$. \n",
    "\n",
    "The fair die, on the other hand, follows the traditional distribution \n",
    "\n",
    "$$\n",
    "\\begin{equation}\n",
    "\\left\\lbrace \\frac{1}{6},\\frac{1}{6},\\frac{1}{6},\\frac{1}{6},\\frac{1}{6},\\frac{1}{6} \\right\\rbrace \n",
    "\\end{equation}\n",
    "$$.\n",
    "\n",
    "If you were to gamble, which die would you pick? Which one makes you less uncertain of your choice, or, better still, which one decreases the entropy you experience? Evidently, it is **not** the fair die, for, once again, uniform distributions maximize entropy. \n",
    "\n",
    "As we can see, there is a relationship between the probability of a random variable's events and its entropy. Let $X$ be a random variable, $\\mathcal{X}$ its support group, and $H(X)$ its entropy. According to [Cover-Thomas,2006], entropy is defined as\n",
    "\n",
    "$$\n",
    "\\begin{equation}\n",
    "    \\label{eq:entropy}\n",
    "    H(X) \\triangleq \\sum\\limits_{x \\in \\mathcal{X}} p_X (x) \\log_2\\left( \\frac{1}{p_X (x)} \\right) = -\\sum\\limits_{x \\in \\mathcal{X}} p_X (x) \\log_2\\left( p_X (x) \\right) \\tag{1}\n",
    "\\end{equation}\n",
    "$$\n",
    "\n",
    "where the $\\log$ operational is defined under base $2$. This gives us the basic unit of information: the bit. Entropy can also be computed with different base values, including $e$, in which case the unit of measurement becomes the \"nat\". It is useful to distinguish now between the information theoretical bit and the bit in computer science. In computer science, the bit is the basic unit of storage. It is the placeholder for data, even redundant, uninformative data. In Information Theory, the bit is the basic unit of actual information, stripped of all redundancy. \n",
    "\n",
    "Equation $\\eqref{eq:entropy}$ has one important property: $H(x) \\geq 0$, because probability values are also greater than or equal to zero. This makes sense, as the natural interpretation of information does not lead to the definition of negative information.\n",
    "\n",
    "Let $X$ be a random variable with categories $\\left\\lbrace a,b,c,d \\right\\rbrace$. If the associated probabilities are $\\{ 0.2,0.1,0.3,0.4 \\}$, eq. $\\eqref{eq:entropy}$ tells us that\n",
    "\n",
    "$$\n",
    "\\begin{align}\n",
    "    H(X) &= -p(a) \\log_2 \\left( p(a) \\right) - p(b)  \\log_2 \\left( p(b) \\right) - p(c) \\log_2 \\left( p(c) \\right) -p(d) \\log_2 \\left( p(d) \\right) \\\\\n",
    "         &= -0.2 \\log_2(0.2) - 0.1 \\log_2(0.1) - 0.3 \\log_2(0.3) - 0.4 \\log_2(0.4)\n",
    "\\end{align}\n",
    "$$\n",
    "\n",
    "where $p(u)$ for $u \\in \\{a,b,c,d\\}$ is a shorthand for $p_X (X = u)$."
   ]
  },
  {
   "cell_type": "code",
   "execution_count": 549,
   "metadata": {},
   "outputs": [],
   "source": [
    "#hide\n",
    "import numpy as np\n",
    "import matplotlib.pyplot as plt\n",
    "import seaborn as sns\n",
    "import pandas as pd\n",
    "import string as string\n",
    "import pprint"
   ]
  },
  {
   "cell_type": "code",
   "execution_count": 550,
   "metadata": {},
   "outputs": [
    {
     "name": "stdout",
     "output_type": "stream",
     "text": [
      "1.8464393446710154\n"
     ]
    }
   ],
   "source": [
    "H_X = -0.2*np.log2(0.2) - 0.1*np.log2(0.1) - 0.3*np.log2(0.3) - 0.4*np.log2(0.4)\n",
    "print(H_X)"
   ]
  },
  {
   "cell_type": "markdown",
   "metadata": {},
   "source": [
    "We observe that on average we can describe $X$ with approximately $1.85$ bits. Those are essential bits that cannot be discarded. If discarded, information is lost. But let us say that we want to represent $X$ with $3$ bits. That is possible, and it would not result in any loss of information, but it does result in redundancy. In communication systems, such redundancy is very undesirable, since it results in a surplus of transmitted energy.\n",
    "\n",
    "Another interpretation for entropy that is very intuitive is how many binary questions do we have to ask to determine with certainty some piece of information. Say we have a random variable $Y$ with equally-likely events $\\{0,1,2,3,4,5,6,7\\}$. Say we would like to determine one of those events, how many binary questions do we have to ask? Intuitively, you may have already guessed that 3, hence 3 bits, but let us formalize the questions for $Y=1$, without incurring any loss of generality:\n",
    "\n",
    "* Is $Y \\geq 4$? No, therefore our set has been reduced to $\\{0,1,2,3\\}$.\n",
    "* Is $Y \\geq 2$? No, therefore our set has been reduced to $\\{0,1\\}$.\n",
    "* Is $Y \\geq 1$? Yes, and we have found the targeted element.\n",
    "\n",
    "Based on this question rule and on the Boolean values assigned to the answers, we can even arrive at a possible binary code to event $Y=1$, namely $(001)_2$.\n",
    "\n",
    "Now, let us focus on an important special case: that of Bernoulli-distributed random variables. Let $X$ be a random variable defined with two possible states $\\{0,1\\}$. These states are respectively defined by the following probabilities:\n",
    "\n",
    "$$\n",
    "\\begin{aligned}\n",
    "    p(0) &= 1 - \\theta \\\\\n",
    "    p(1) &= \\theta \n",
    "\\end{aligned}\n",
    "$$\n",
    "\n",
    "Now, let us vary $\\theta \\in [0,1]$ within its domain in order to observe the effects on the binary entropy $H(p)$ (it is a standard notation to label the binary entropy with this nomenclature)."
   ]
  },
  {
   "cell_type": "code",
   "execution_count": 551,
   "metadata": {},
   "outputs": [],
   "source": [
    "def entropy(p,eps): # entropy function\n",
    "    p = p+eps\n",
    "    return -np.dot(p,np.log2(p))"
   ]
  },
  {
   "cell_type": "code",
   "execution_count": 552,
   "metadata": {},
   "outputs": [],
   "source": [
    "eps = 1e-15 # added so that we do not have log(0), which is undefined"
   ]
  },
  {
   "cell_type": "code",
   "execution_count": 553,
   "metadata": {},
   "outputs": [],
   "source": [
    "nel = 100 # creating the list of entropies for \\theta = 0, 0.01, ..., 1\n",
    "p_list = np.linspace(0,1,nel+1)\n",
    "p_set = [np.array([p, 1-p]) for p in p_list]\n",
    "Hp = [entropy(value,eps) for value in p_set]\n",
    "dic = {'P(x=1)':p_list, 'Hp':Hp} # converting to a dictionary for the Seaborn library"
   ]
  },
  {
   "cell_type": "code",
   "execution_count": 554,
   "metadata": {},
   "outputs": [
    {
     "data": {
      "text/plain": [
       "Text(0.5, 1.0, 'Binary Entropy')"
      ]
     },
     "execution_count": 554,
     "metadata": {},
     "output_type": "execute_result"
    },
    {
     "data": {
      "image/png": "[encoded data removed]",
      "text/plain": [
       "<Figure size 720x432 with 1 Axes>"
      ]
     },
     "metadata": {},
     "output_type": "display_data"
    }
   ],
   "source": [
    "dfentropy = pd.DataFrame(dic) # plotting the binary entropy curve\n",
    "sns.set_style(\"whitegrid\")\n",
    "fig_dims = (10, 6)\n",
    "fig,ax = plt.subplots(figsize=fig_dims)\n",
    "ax.set(xlim=(0,1), ylim=(0,1), xticks=np.linspace(0,1,11))\n",
    "sns.lineplot(x=\"P(x=1)\", y=\"Hp\", ax=ax, data=dfentropy)\n",
    "plt.title('Binary Entropy')"
   ]
  },
  {
   "cell_type": "markdown",
   "metadata": {},
   "source": [
    "As we can see from the graph, the binary entropy $H(p)$ is zero at both $P(X=1) = 0 $ and $P(X=1) = 1$, because at those two points, the variable is not random; it is certain that it is $0$ and $1$, respectively. On the other hand, at $P(X=1) = 0.5 $, entropy is maximized, since both events are equally likely: $P(X=0) = 0.5$ and $P(X=1) = 0.5$. Consequently, we have the most uncertainty (one bit) at this point."
   ]
  },
  {
   "cell_type": "markdown",
   "metadata": {},
   "source": [
    "## Kullback-Leibler Divergence: The Distance Between Probability Density Functions"
   ]
  },
  {
   "cell_type": "markdown",
   "metadata": {},
   "source": [
    "One quantity very closely related to the entropy is the Kullback-Leibler (KL) Divergence, also known as the relative entropy. Let $X$ be a random variable and let $p_X$ and $q_X$ (for which we will use for convenience the shorthand $p$ and $q$, respectively) be two distributions that describe the probability density function of $X$. The distribution $p$ is the true distribution, the one that generates the observed, experimental data. Distribution $q$, on the other hand, is a modeled distribution. It is the attempt to estimate $p$. According to [Cover-Thomas, 2006], the KL Divergence is defined as\n",
    "\n",
    "$$\n",
    "\\begin{equation}\n",
    "\\label{eq:KLdiv}\n",
    " D(p||q) \\triangleq \\sum\\limits_{x \\in \\mathcal{X}} p(x) \\log \\left( \\frac{p(x)}{q(x)} \\right) \\tag{2}\n",
    "\\end{equation}\n",
    "$$\n",
    "\n",
    "where the $D(p||q)$ is usually computed with the $\\log$ function under base $e$, i.e., the convention is to operate the divergence functional in terms of nats.\n",
    "\n",
    "The KL divergence measures how similar $q$ is to $p$. Concretely, it tells how many extra bits the distribution $q$ adds to the entropy of $X$. In order to observe this, let us go back to eq. $\\eqref{eq:KLdiv}$\n",
    "\n",
    "$$\n",
    "\\begin{align}\n",
    "\\label{eq:KLdiv_cross_entropy}\n",
    " D(p||q) &= \\sum\\limits_{x \\in \\mathcal{X}} p(x) \\log p(x) - p(x) \\log (q(x)) \\\\ \n",
    "         &= -\\sum\\limits_{x \\in \\mathcal{X}} p(x) \\log q(x) - H(X) \\tag{3}\n",
    "\\end{align}\n",
    "$$\n",
    "\n",
    "The sum term on the right is the cross entropy. For the time being, let us simply see it as a form of entropy computed as an expected value with regard to another probability distribution. Let us illustrate this with a numerical example. Let $X$ be a random variable and let its states be $\\{a,b,c,d\\}$ with probability distribution \n",
    "\n",
    "$$\n",
    "\\begin{equation}\n",
    "p = \\left\\lbrace \\frac{1}{4}, \\frac{1}{8}, \\frac{1}{16}, \\frac{9}{16} \\right\\rbrace\n",
    "\\end{equation}\n",
    "$$\n",
    "\n",
    "Its entropy is calculated as "
   ]
  },
  {
   "cell_type": "code",
   "execution_count": 555,
   "metadata": {},
   "outputs": [
    {
     "data": {
      "text/plain": [
       "1.1034329096381947"
      ]
     },
     "execution_count": 555,
     "metadata": {},
     "output_type": "execute_result"
    }
   ],
   "source": [
    "entropy(np.array([1/4,1/8,1/16,9/16]), eps) * np.log(2) # here the entropy was multiplied by log_e(2) to convert it to nats"
   ]
  },
  {
   "cell_type": "markdown",
   "metadata": {},
   "source": [
    "Let us now calculate the expected value with regard to a different probability distribution\n",
    "\n",
    "$$\n",
    "\\begin{equation}\n",
    "q = \\left\\lbrace \\frac{1}{4}, \\frac{1}{4}, \\frac{1}{4}, \\frac{1}{4} \\right\\rbrace\n",
    "\\end{equation}\n",
    "$$\n",
    "\n",
    "This results in\n",
    "\n",
    "$$\n",
    "\\begin{align}\n",
    "    -\\sum\\limits_{x \\in \\mathcal{X}} p(x) \\log q(x) &= -\\frac{1}{4} \\log \\frac{1}{4} - \\frac{1}{8} \\log \\frac{1}{4} - \\frac{1}{16} \\log \\frac{1}{4} - \\frac{9}{16} \\log \\frac{1}{4} \\\\\n",
    "    &= -\\log \\frac{1}{4} \\left( \\frac{1}{4} + \\frac{1}{8} + \\frac{1}{16} + \\frac{9}{16} \\right) \\\\\n",
    "    &= -\\log \\frac{1}{4}\n",
    "\\end{align}\n",
    "$$"
   ]
  },
  {
   "cell_type": "code",
   "execution_count": 556,
   "metadata": {},
   "outputs": [
    {
     "name": "stdout",
     "output_type": "stream",
     "text": [
      "1.3862943611198906\n"
     ]
    }
   ],
   "source": [
    "H_pq = -np.log(1/4)\n",
    "print(H_pq)"
   ]
  },
  {
   "cell_type": "markdown",
   "metadata": {},
   "source": [
    "It is clear to see that the entropy represents the random variable with less information. This is in fact another property of the entropy. It stands for the fewest number of information units necessary to describe a random variable."
   ]
  },
  {
   "cell_type": "markdown",
   "metadata": {},
   "source": [
    "If $q$ were $p$, i.e., $D(p||p)$ would then reduce to\n",
    "\n",
    "$$\n",
    "\\begin{align}\n",
    " D(p||p) &=  -\\sum\\limits_{x \\in \\mathcal{X}} p(x) \\log p(x) - H(X) \\\\\n",
    "         &= H(X) - H(X) = 0\n",
    "\\end{align}\n",
    "$$\n",
    "\n",
    "This gives us another insight into the KL divergence. Given that $-\\sum_{x \\in \\mathcal{X}} p(x) \\log q(x) \\geq H(X) $ and $H(X) \\geq 0$, then $D(p||p) \\geq 0$ and it is equal to 0 iff $-\\sum_{x \\in \\mathcal{X}} p(x) \\log p(x) = H(X)$."
   ]
  },
  {
   "cell_type": "markdown",
   "metadata": {},
   "source": [
    "## Cross Entropy and its Relationship to KL Divergence"
   ]
  },
  {
   "cell_type": "markdown",
   "metadata": {},
   "source": [
    "We are now going to give a name to the quantity $-\\sum_{x \\in \\mathcal{X}} p(x) \\log q(x)$. As we hinted in the last section, this is the cross entropy $H_{p,q}$. Therefore,\n",
    "\n",
    "$$\n",
    "\\begin{equation}\n",
    "H_{p,q} = -\\sum_{x \\in \\mathcal{X}} p(x) \\log q(x)\n",
    "\\end{equation}\n",
    "$$\n",
    "\n",
    "This quantity is extremely closely associated to the KL divergence"
   ]
  },
  {
   "cell_type": "markdown",
   "metadata": {},
   "source": [
    "## Cross Entropy as a Cost Function in Machine Learning"
   ]
  },
  {
   "cell_type": "code",
   "execution_count": 557,
   "metadata": {},
   "outputs": [],
   "source": [
    "def cross_entropy(p,q,eps):\n",
    "    q = q+eps\n",
    "    return -np.dot(p,np.log(q))"
   ]
  },
  {
   "cell_type": "code",
   "execution_count": 558,
   "metadata": {},
   "outputs": [],
   "source": [
    "def kullback_leibler(p,q,eps):\n",
    "    p = p+eps; q = q+eps\n",
    "    return np.dot(p,np.log(p/q))"
   ]
  },
  {
   "cell_type": "code",
   "execution_count": 559,
   "metadata": {},
   "outputs": [],
   "source": [
    "eps = 1e-15"
   ]
  },
  {
   "cell_type": "code",
   "execution_count": 560,
   "metadata": {},
   "outputs": [],
   "source": [
    "p = np.random.rand(10)\n",
    "p /= p.sum()\n",
    "cats = list(string.ascii_lowercase[:len(p)])\n",
    "dic = {'Category':cats, 'Probability':p}\n",
    "dist = pd.DataFrame(dic)"
   ]
  },
  {
   "cell_type": "code",
   "execution_count": 561,
   "metadata": {},
   "outputs": [
    {
     "data": {
      "image/png": "[encoded data removed]",
      "text/plain": [
       "<Figure size 720x432 with 1 Axes>"
      ]
     },
     "metadata": {},
     "output_type": "display_data"
    }
   ],
   "source": [
    "sns.set_style(\"dark\")\n",
    "fig_dims = (10, 6)\n",
    "fig,ax = plt.subplots(figsize=fig_dims)\n",
    "sns.barplot(x = \"Category\", y = \"Probability\", palette=\"deep\", ax=ax, data=dist)\n",
    "plt.title(\"Probability Distribution\", size=18)\n",
    "plt.show()"
   ]
  },
  {
   "cell_type": "markdown",
   "metadata": {},
   "source": [
    "Writing a similar distribution to $\\mathbf{p}$. Let us call it $\\mathbf{q}$"
   ]
  },
  {
   "cell_type": "code",
   "execution_count": 535,
   "metadata": {},
   "outputs": [],
   "source": [
    "q = p.copy()"
   ]
  },
  {
   "cell_type": "code",
   "execution_count": 536,
   "metadata": {},
   "outputs": [
    {
     "data": {
      "image/png": "[encoded data removed]",
      "text/plain": [
       "<Figure size 720x432 with 1 Axes>"
      ]
     },
     "metadata": {},
     "output_type": "display_data"
    }
   ],
   "source": [
    "q[-1] = 0.95*p[-1]\n",
    "dic = {'Category':cats, 'Probability':q}\n",
    "dist = pd.DataFrame(dic)\n",
    "fig,ax = plt.subplots(figsize=fig_dims)\n",
    "sns.barplot(x = \"Category\", y = \"Probability\", palette=\"deep\", ax=ax, data=dist)\n",
    "plt.title(\"Probability Distribution\", size=18)\n",
    "plt.show()"
   ]
  },
  {
   "cell_type": "markdown",
   "metadata": {},
   "source": [
    "Let us compute now the entropy of each distribution and their cross entropy"
   ]
  },
  {
   "cell_type": "code",
   "execution_count": 537,
   "metadata": {},
   "outputs": [
    {
     "data": {
      "text/plain": [
       "2.939216005941008"
      ]
     },
     "execution_count": 537,
     "metadata": {},
     "output_type": "execute_result"
    }
   ],
   "source": [
    "entropy(p,eps)"
   ]
  },
  {
   "cell_type": "code",
   "execution_count": 538,
   "metadata": {},
   "outputs": [
    {
     "data": {
      "text/plain": [
       "2.9323863552926404"
      ]
     },
     "execution_count": 538,
     "metadata": {},
     "output_type": "execute_result"
    }
   ],
   "source": [
    "entropy(q,eps)"
   ]
  },
  {
   "cell_type": "code",
   "execution_count": 539,
   "metadata": {},
   "outputs": [
    {
     "name": "stdout",
     "output_type": "stream",
     "text": [
      "2.0395717057519773\n"
     ]
    }
   ],
   "source": [
    "H_pq = cross_entropy(p,q,eps)\n",
    "print(H_pq)"
   ]
  },
  {
   "cell_type": "markdown",
   "metadata": {},
   "source": [
    "Now choosing a completely random $\\mathbf{q}$"
   ]
  },
  {
   "cell_type": "code",
   "execution_count": 540,
   "metadata": {},
   "outputs": [
    {
     "data": {
      "image/png": "[encoded data removed]",
      "text/plain": [
       "<Figure size 720x432 with 1 Axes>"
      ]
     },
     "metadata": {},
     "output_type": "display_data"
    }
   ],
   "source": [
    "q = np.random.rand(10)\n",
    "q = q/q.sum()\n",
    "dic = {'Category':cats, 'Probability':q}\n",
    "dist = pd.DataFrame(dic)\n",
    "fig,ax = plt.subplots(figsize=fig_dims)\n",
    "sns.barplot(x = \"Category\", y = \"Probability\", palette=\"deep\", ax=ax, data=dist)\n",
    "plt.title(\"Probability Distribution\", size=18)\n",
    "plt.show()"
   ]
  },
  {
   "cell_type": "code",
   "execution_count": 541,
   "metadata": {},
   "outputs": [
    {
     "name": "stdout",
     "output_type": "stream",
     "text": [
      "2.4563381448559105\n"
     ]
    }
   ],
   "source": [
    "H_pq = cross_entropy(p,q,eps)\n",
    "print(H_pq)"
   ]
  },
  {
   "cell_type": "markdown",
   "metadata": {},
   "source": [
    "Now let us say that we use the Cross Entropy for the classification problem"
   ]
  },
  {
   "cell_type": "markdown",
   "metadata": {},
   "source": [
    "The category $a$ is going to be chosen for RV $T$"
   ]
  },
  {
   "cell_type": "code",
   "execution_count": 542,
   "metadata": {},
   "outputs": [
    {
     "name": "stdout",
     "output_type": "stream",
     "text": [
      "array([1., 0., 0., 0., 0., 0., 0., 0., 0., 0.])\n"
     ]
    }
   ],
   "source": [
    "q = np.zeros(10)\n",
    "q[0] = 1\n",
    "pp.pprint(q)"
   ]
  },
  {
   "cell_type": "code",
   "execution_count": 543,
   "metadata": {},
   "outputs": [
    {
     "data": {
      "text/plain": [
       "31.727764499265103"
      ]
     },
     "execution_count": 543,
     "metadata": {},
     "output_type": "execute_result"
    }
   ],
   "source": [
    "cross_entropy(p,q,eps)"
   ]
  },
  {
   "cell_type": "markdown",
   "metadata": {},
   "source": [
    "If $\\mathbf{p}$ were close to $\\mathbf{q}$, then"
   ]
  },
  {
   "cell_type": "code",
   "execution_count": 544,
   "metadata": {},
   "outputs": [],
   "source": [
    "p = np.array([0.985, 0.015, 0, 0, 0, 0, 0, 0, 0, 0])"
   ]
  },
  {
   "cell_type": "code",
   "execution_count": 545,
   "metadata": {},
   "outputs": [
    {
     "data": {
      "text/plain": [
       "0.5180816459236591"
      ]
     },
     "execution_count": 545,
     "metadata": {},
     "output_type": "execute_result"
    }
   ],
   "source": [
    "cross_entropy(p,q,eps)"
   ]
  },
  {
   "cell_type": "code",
   "execution_count": 546,
   "metadata": {},
   "outputs": [],
   "source": [
    "nel = 99\n",
    "p_list = np.linspace(0, 0.99, nel+1)\n",
    "N = 8\n",
    "p_set = [np.pad([p,1-p], (0,N), 'constant', constant_values=0) for p in p_list]\n",
    "H_pq = [cross_entropy(value,q,eps) for value in p_set]\n",
    "KL = [kullback_leibler(value,q,eps) for value in p_set]\n",
    "dic_pq = {'P(x=1)':p_list, 'H_pq':H_pq}\n",
    "dic_KL = {'P(x=1)':p_list, 'KL':KL}"
   ]
  },
  {
   "cell_type": "code",
   "execution_count": 547,
   "metadata": {},
   "outputs": [
    {
     "data": {
      "text/plain": [
       "Text(0.5, 1.0, 'Kullback-Leibler')"
      ]
     },
     "execution_count": 547,
     "metadata": {},
     "output_type": "execute_result"
    },
    {
     "data": {
      "image/png": "[encoded data removed]",
      "text/plain": [
       "<Figure size 720x432 with 2 Axes>"
      ]
     },
     "metadata": {},
     "output_type": "display_data"
    }
   ],
   "source": [
    "dfcross_entropy = pd.DataFrame(dic_pq)\n",
    "dfkullback_leibler = pd.DataFrame(dic_KL)\n",
    "sns.set_style(\"whitegrid\")\n",
    "fig_dims = (10, 6)\n",
    "fig,ax =plt.subplots(1,2,figsize=fig_dims)\n",
    "ax[0].set(xlim=(0,1), xticks=np.linspace(0,1,11))\n",
    "sns.lineplot(x=\"P(x=1)\", y=\"H_pq\", data=dfcross_entropy, ax=ax[0])\n",
    "ax[0].set_title('Cross Entropy')\n",
    "ax[1].set(xlim=(0,1), xticks=np.linspace(0,1,11))\n",
    "sns.lineplot(x=\"P(x=1)\", y=\"KL\", data=dfkullback_leibler, ax=ax[1])\n",
    "ax[1].set_title('Kullback-Leibler')"
   ]
  },
  {
   "cell_type": "code",
   "execution_count": 548,
   "metadata": {},
   "outputs": [
    {
     "data": {
      "text/html": [
       "<div>\n",
       "<style scoped>\n",
       "    .dataframe tbody tr th:only-of-type {\n",
       "        vertical-align: middle;\n",
       "    }\n",
       "\n",
       "    .dataframe tbody tr th {\n",
       "        vertical-align: top;\n",
       "    }\n",
       "\n",
       "    .dataframe thead th {\n",
       "        text-align: right;\n",
       "    }\n",
       "</style>\n",
       "<table border=\"1\" class=\"dataframe\">\n",
       "  <thead>\n",
       "    <tr style=\"text-align: right;\">\n",
       "      <th></th>\n",
       "      <th>P(x=1)</th>\n",
       "      <th>H_pq</th>\n",
       "    </tr>\n",
       "  </thead>\n",
       "  <tbody>\n",
       "    <tr>\n",
       "      <th>0</th>\n",
       "      <td>0.00</td>\n",
       "      <td>34.538776</td>\n",
       "    </tr>\n",
       "    <tr>\n",
       "      <th>1</th>\n",
       "      <td>0.01</td>\n",
       "      <td>34.193389</td>\n",
       "    </tr>\n",
       "    <tr>\n",
       "      <th>2</th>\n",
       "      <td>0.02</td>\n",
       "      <td>33.848001</td>\n",
       "    </tr>\n",
       "    <tr>\n",
       "      <th>3</th>\n",
       "      <td>0.03</td>\n",
       "      <td>33.502613</td>\n",
       "    </tr>\n",
       "    <tr>\n",
       "      <th>4</th>\n",
       "      <td>0.04</td>\n",
       "      <td>33.157225</td>\n",
       "    </tr>\n",
       "  </tbody>\n",
       "</table>\n",
       "</div>"
      ],
      "text/plain": [
       "   P(x=1)       H_pq\n",
       "0    0.00  34.538776\n",
       "1    0.01  34.193389\n",
       "2    0.02  33.848001\n",
       "3    0.03  33.502613\n",
       "4    0.04  33.157225"
      ]
     },
     "execution_count": 548,
     "metadata": {},
     "output_type": "execute_result"
    }
   ],
   "source": [
    "dfcross_entropy.head()"
   ]
  },
  {
   "cell_type": "code",
   "execution_count": null,
   "metadata": {},
   "outputs": [],
   "source": []
  }
 ],
 "metadata": {
  "kernelspec": {
   "display_name": "Python 3",
   "language": "python",
   "name": "python3"
  },
  "language_info": {
   "codemirror_mode": {
    "name": "ipython",
    "version": 3
   },
   "file_extension": ".py",
   "mimetype": "text/x-python",
   "name": "python",
   "nbconvert_exporter": "python",
   "pygments_lexer": "ipython3",
   "version": "3.8.3"
  }
 },
 "nbformat": 4,
 "nbformat_minor": 4
}
