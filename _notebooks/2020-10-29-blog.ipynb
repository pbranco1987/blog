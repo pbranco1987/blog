{
 "cells": [
  {
   "cell_type": "raw",
   "metadata": {},
   "source": [
    "#Cross Entropy and Maximum Likelihood Estimation\n",
    "> In this article, I will discuss what Cross Entropy means from an information theoretical point of view and how it relates to key concepts in Machine Learning, including the log-loss cost function in linear regression classification and parameter estimation. \n",
    "\n",
    "- toc: true\n",
    "- branch: master\n",
    "- badges: true\n",
    "- comments: true\n",
    "- categories: [Tutorial, Information Theory, Cost Function, Maximum Likelihood Estimation, Entropy, Cross Entropy, Log-loss Function, Kullback-Leibler Divergence]\n",
    "- image: images/some_folder/your_image.png\n",
    "- hide: false\n",
    "- search_exclude: true\n",
    "- metadata_key1: metadata_value1\n",
    "- metadata_key2: metadata_value2"
   ]
  },
  {
   "cell_type": "markdown",
   "metadata": {},
   "source": [
    "## Introduction\n",
    "\n",
    "Entropy in Thermodynamics is a measure of a system's disorder: the higher the disorder, the greater the entropy. Information can also be seen as a form of entropic measure. Information that is \"unordered\", that is, which is highly uncertain, presents us with more surprise than well-established, organized facts. It is hence more informative. As we will see, Information Theory has concepts very reminiscent of Thermodynamic's Second Law. \n",
    "\n",
    "It is also of interest to note that such concepts of Thermodynamics such as the Gibbs Free Energy (the enthalpy minus the product of the temperature and a system's entropy) have corresponding properties, quantities and concepts in Information Theory. And this is not by chance, as the arrangement and the evolution of of the state of matter conveys information and, ultimately, tweaking with matter is the way to convey information. Think about the way digital information is relayed. In its most standard incarnation, it is transmitted via fluctuations in electromagnetic waves. These waves are modulated to transmit data.\n",
    "\n",
    "However, that is not the end of it. Information Theory finds its way also in Machine Learning. Machine Learning is the science of finding patterns, of trying to elicit information from that which we observe. I did not use the word information by chance, as the role of models, independent variables, and parameter estimation (in the traditional sense of maximum-likelihood estimation) is to obtain from a complex observation its essentials for prognostics, prediction, clustering, and a myriad of other applications.\n",
    "\n",
    "In what follows, we will explore one very interesting quantity: the cross entropy. We will see that its main virtue is to compare a model to experimental data and to tell how much excess information is required for modeling data with a probability distribution different to the true ditribution of the data. "
   ]
  },
  {
   "cell_type": "markdown",
   "metadata": {},
   "source": [
    "## Entropy as a Measure of Uncertainty\n",
    "\n",
    "In order to understand cross entropy, we must first lay out the foundations of entropy. Entropy is a description of the uncertainty of a random variable (RV). We want to measure how uncertain a probabilistic event is. Essentially, the more unlikely an event is, the more surprising it is and, consequently, the more information it holds. To say that it is raining now contains no information. It is a certain event that bears no surprise. However, to say that there is a $35$% probability of rain tomorrow does contain information. If we instead were faced with a probability of $50$% rain, would we be more or less certain of tomorrow's weather? Indeed we would be less certain, because the $35$% probability of rain implies a probability of $65$% without any rain, whilst $50$% either way essentially leaves with the most amount of doubt possible. This is an essential aspect of entropy: it is maximized for equally-likely events. Another elucidating example is a biased die and a fair die. Let us imagine that the biased die is heavily biased towards the six-dotted side such that for this die's events $\\{1,2,3,4,5,6\\}$, the corresponding set of probabilities is given by $\\{ \\frac{1}{12},\\frac{1}{12},\\frac{1}{12},\\frac{1}{12},\\frac{1}{12}, \\frac{7/12} \\}$ . The fair die, on the other hand, follows the traditional distribution $\\{\\frac{1}{6},\\frac{1}{6},\\frac{1}{6},\\frac{1}{6},\\frac{1}{6},\\frac{1}{6} \\}$. If you were to gamble, which die would you pick? Which one makes you less uncertain of your choice, or, better still, which one decreases the entropy you experience? Evidently, it is **not** the fair die, for, once again, uniform distributions maximize entropy. \n",
    "\n",
    "As we can see, there is a relationship between the probability of a RV's events and its entropy. Let $X$ be a random variable, $\\mathcal{X}$ its support group, and let $H(X)$ its entropy. The entropy is defined as\n",
    "$\\begin{equation}\n",
    "    H(X) = \\sum\\limits_{x \\in \\mathcal{X}} p_X (x) log_2\\left( \\frac{1}{p_X (x)} \\right)\n",
    "\\end{equation}$"
   ]
  },
  {
   "cell_type": "markdown",
   "metadata": {},
   "source": [
    "## Kullback-Leibler Divergence: The Distance Between Probability Density Functions"
   ]
  },
  {
   "cell_type": "markdown",
   "metadata": {},
   "source": [
    "## Cross Entropy and its Relationship to KL Divergence"
   ]
  },
  {
   "cell_type": "markdown",
   "metadata": {},
   "source": [
    "## Cross Entropy as a Cost Function in Machine Learning"
   ]
  },
  {
   "cell_type": "code",
   "execution_count": 429,
   "metadata": {},
   "outputs": [],
   "source": [
    "import numpy as np\n",
    "import matplotlib.pyplot as plt\n",
    "import seaborn as sns\n",
    "import pandas as pd\n",
    "import string as string\n",
    "import pprint"
   ]
  },
  {
   "cell_type": "code",
   "execution_count": 430,
   "metadata": {},
   "outputs": [],
   "source": [
    "pp = pprint.PrettyPrinter(indent=4)"
   ]
  },
  {
   "cell_type": "code",
   "execution_count": 431,
   "metadata": {},
   "outputs": [],
   "source": [
    "def entropy(p,eps):\n",
    "    p = p+eps\n",
    "    return -np.dot(p,np.log2(p))"
   ]
  },
  {
   "cell_type": "code",
   "execution_count": 432,
   "metadata": {},
   "outputs": [],
   "source": [
    "def cross_entropy(p,q,eps):\n",
    "    q = q+eps\n",
    "    return -np.dot(p,np.log(q))"
   ]
  },
  {
   "cell_type": "code",
   "execution_count": 433,
   "metadata": {},
   "outputs": [],
   "source": [
    "def kullback_leibler(p,q,eps):\n",
    "    p = p+eps; q = q+eps\n",
    "    return np.dot(p,np.log(p/q))"
   ]
  },
  {
   "cell_type": "code",
   "execution_count": 434,
   "metadata": {},
   "outputs": [],
   "source": [
    "eps = 1e-15"
   ]
  },
  {
   "cell_type": "code",
   "execution_count": 435,
   "metadata": {},
   "outputs": [],
   "source": [
    "nel = 100\n",
    "p_list = np.linspace(0,1,nel+1)\n",
    "p_set = [np.array([p, 1-p]) for p in p_list]\n",
    "Hp = [entropy(value,eps) for value in p_set]\n",
    "dic = {'P(x=1)':p_list, 'Hp':Hp}"
   ]
  },
  {
   "cell_type": "code",
   "execution_count": 436,
   "metadata": {},
   "outputs": [
    {
     "data": {
      "text/plain": [
       "Text(0.5, 1.0, 'Binary Entropy')"
      ]
     },
     "execution_count": 436,
     "metadata": {},
     "output_type": "execute_result"
    },
    {
     "data": {
      "image/png": "[encoded data removed]",
      "text/plain": [
       "<Figure size 720x432 with 1 Axes>"
      ]
     },
     "metadata": {},
     "output_type": "display_data"
    }
   ],
   "source": [
    "dfentropy = pd.DataFrame(dic)\n",
    "sns.set_style(\"whitegrid\")\n",
    "fig_dims = (10, 6)\n",
    "fig,ax = plt.subplots(figsize=fig_dims)\n",
    "ax.set(xlim=(0,1), ylim=(0,1), xticks=np.linspace(0,1,11))\n",
    "sns.lineplot(x=\"P(x=1)\", y=\"Hp\", ax=ax, data=dfentropy)\n",
    "plt.title('Binary Entropy')"
   ]
  },
  {
   "cell_type": "code",
   "execution_count": 437,
   "metadata": {},
   "outputs": [],
   "source": [
    "p = np.random.rand(10)\n",
    "p /= p.sum()\n",
    "cats = list(string.ascii_lowercase[:len(p)])\n",
    "dic = {'Category':cats, 'Probability':p}\n",
    "dist = pd.DataFrame(dic)"
   ]
  },
  {
   "cell_type": "code",
   "execution_count": 438,
   "metadata": {},
   "outputs": [
    {
     "data": {
      "image/png": "[encoded data removed]",
      "text/plain": [
       "<Figure size 720x432 with 1 Axes>"
      ]
     },
     "metadata": {},
     "output_type": "display_data"
    }
   ],
   "source": [
    "sns.set_style(\"dark\")\n",
    "fig_dims = (10, 6)\n",
    "fig,ax = plt.subplots(figsize=fig_dims)\n",
    "sns.barplot(x = \"Category\", y = \"Probability\", palette=\"deep\", ax=ax, data=dist)\n",
    "plt.title(\"Probability Distribution\", size=18)\n",
    "plt.show()"
   ]
  },
  {
   "cell_type": "markdown",
   "metadata": {},
   "source": [
    "Writing a similar distribution to $\\mathbf{p}$. Let us call it $\\mathbf{q}$"
   ]
  },
  {
   "cell_type": "code",
   "execution_count": 439,
   "metadata": {},
   "outputs": [],
   "source": [
    "q = p.copy()"
   ]
  },
  {
   "cell_type": "code",
   "execution_count": 440,
   "metadata": {},
   "outputs": [
    {
     "data": {
      "image/png": "[encoded data removed]",
      "text/plain": [
       "<Figure size 720x432 with 1 Axes>"
      ]
     },
     "metadata": {},
     "output_type": "display_data"
    }
   ],
   "source": [
    "q[-1] = 0.95*p[-1]\n",
    "dic = {'Category':cats, 'Probability':q}\n",
    "dist = pd.DataFrame(dic)\n",
    "fig,ax = plt.subplots(figsize=fig_dims)\n",
    "sns.barplot(x = \"Category\", y = \"Probability\", palette=\"deep\", ax=ax, data=dist)\n",
    "plt.title(\"Probability Distribution\", size=18)\n",
    "plt.show()"
   ]
  },
  {
   "cell_type": "markdown",
   "metadata": {},
   "source": [
    "Let us compute now the entropy of each distribution and their cross entropy"
   ]
  },
  {
   "cell_type": "code",
   "execution_count": 441,
   "metadata": {},
   "outputs": [
    {
     "data": {
      "text/plain": [
       "2.9168812123233385"
      ]
     },
     "execution_count": 441,
     "metadata": {},
     "output_type": "execute_result"
    }
   ],
   "source": [
    "entropy(p,eps)"
   ]
  },
  {
   "cell_type": "code",
   "execution_count": 442,
   "metadata": {},
   "outputs": [
    {
     "data": {
      "text/plain": [
       "2.906886141311938"
      ]
     },
     "execution_count": 442,
     "metadata": {},
     "output_type": "execute_result"
    }
   ],
   "source": [
    "entropy(q,eps)"
   ]
  },
  {
   "cell_type": "code",
   "execution_count": 443,
   "metadata": {},
   "outputs": [
    {
     "name": "stdout",
     "output_type": "stream",
     "text": [
      "2.028517611098632\n"
     ]
    }
   ],
   "source": [
    "H_pq = cross_entropy(p,q,eps)\n",
    "print(H_pq)"
   ]
  },
  {
   "cell_type": "markdown",
   "metadata": {},
   "source": [
    "Now choosing a completely random $\\mathbf{q}$"
   ]
  },
  {
   "cell_type": "code",
   "execution_count": 444,
   "metadata": {},
   "outputs": [
    {
     "data": {
      "image/png": "[encoded data removed]",
      "text/plain": [
       "<Figure size 720x432 with 1 Axes>"
      ]
     },
     "metadata": {},
     "output_type": "display_data"
    }
   ],
   "source": [
    "q = np.random.rand(10)\n",
    "q = q/q.sum()\n",
    "dic = {'Category':cats, 'Probability':q}\n",
    "dist = pd.DataFrame(dic)\n",
    "fig,ax = plt.subplots(figsize=fig_dims)\n",
    "sns.barplot(x = \"Category\", y = \"Probability\", palette=\"deep\", ax=ax, data=dist)\n",
    "plt.title(\"Probability Distribution\", size=18)\n",
    "plt.show()"
   ]
  },
  {
   "cell_type": "code",
   "execution_count": 445,
   "metadata": {},
   "outputs": [
    {
     "name": "stdout",
     "output_type": "stream",
     "text": [
      "3.1643656959100426\n"
     ]
    }
   ],
   "source": [
    "H_pq = cross_entropy(p,q,eps)\n",
    "print(H_pq)"
   ]
  },
  {
   "cell_type": "markdown",
   "metadata": {},
   "source": [
    "Now let us say that we use the Cross Entropy for the classification problem"
   ]
  },
  {
   "cell_type": "markdown",
   "metadata": {},
   "source": [
    "The category $a$ is going to be chosen for RV $T$"
   ]
  },
  {
   "cell_type": "code",
   "execution_count": 446,
   "metadata": {},
   "outputs": [
    {
     "name": "stdout",
     "output_type": "stream",
     "text": [
      "array([1., 0., 0., 0., 0., 0., 0., 0., 0., 0.])\n"
     ]
    }
   ],
   "source": [
    "q = np.zeros(10)\n",
    "q[0] = 1\n",
    "pp.pprint(q)"
   ]
  },
  {
   "cell_type": "code",
   "execution_count": 447,
   "metadata": {},
   "outputs": [
    {
     "data": {
      "text/plain": [
       "31.942081767754154"
      ]
     },
     "execution_count": 447,
     "metadata": {},
     "output_type": "execute_result"
    }
   ],
   "source": [
    "cross_entropy(p,q,eps)"
   ]
  },
  {
   "cell_type": "markdown",
   "metadata": {},
   "source": [
    "If $\\mathbf{p}$ were close to $\\mathbf{q}$, then"
   ]
  },
  {
   "cell_type": "code",
   "execution_count": 448,
   "metadata": {},
   "outputs": [],
   "source": [
    "p = np.array([0.985, 0.015, 0, 0, 0, 0, 0, 0, 0, 0])"
   ]
  },
  {
   "cell_type": "code",
   "execution_count": 449,
   "metadata": {},
   "outputs": [
    {
     "data": {
      "text/plain": [
       "0.5180816459236591"
      ]
     },
     "execution_count": 449,
     "metadata": {},
     "output_type": "execute_result"
    }
   ],
   "source": [
    "cross_entropy(p,q,eps)"
   ]
  },
  {
   "cell_type": "code",
   "execution_count": 450,
   "metadata": {},
   "outputs": [],
   "source": [
    "nel = 99\n",
    "p_list = np.linspace(0, 0.99, nel+1)\n",
    "N = 8\n",
    "p_set = [np.pad([p,1-p], (0,N), 'constant', constant_values=0) for p in p_list]\n",
    "H_pq = [cross_entropy(value,q,eps) for value in p_set]\n",
    "KL = [kullback_leibler(value,q,eps) for value in p_set]\n",
    "dic_pq = {'P(x=1)':p_list, 'H_pq':H_pq}\n",
    "dic_KL = {'P(x=1)':p_list, 'KL':KL}"
   ]
  },
  {
   "cell_type": "code",
   "execution_count": 451,
   "metadata": {},
   "outputs": [
    {
     "data": {
      "text/plain": [
       "Text(0.5, 1.0, 'Kullback-Leibler')"
      ]
     },
     "execution_count": 451,
     "metadata": {},
     "output_type": "execute_result"
    },
    {
     "data": {
      "image/png": "[encoded data removed]",
      "text/plain": [
       "<Figure size 720x432 with 2 Axes>"
      ]
     },
     "metadata": {},
     "output_type": "display_data"
    }
   ],
   "source": [
    "dfcross_entropy = pd.DataFrame(dic_pq)\n",
    "dfkullback_leibler = pd.DataFrame(dic_KL)\n",
    "sns.set_style(\"whitegrid\")\n",
    "fig_dims = (10, 6)\n",
    "fig,ax =plt.subplots(1,2,figsize=fig_dims)\n",
    "ax[0].set(xlim=(0,1), xticks=np.linspace(0,1,11))\n",
    "sns.lineplot(x=\"P(x=1)\", y=\"H_pq\", data=dfcross_entropy, ax=ax[0])\n",
    "ax[0].set_title('Cross Entropy')\n",
    "ax[1].set(xlim=(0,1), xticks=np.linspace(0,1,11))\n",
    "sns.lineplot(x=\"P(x=1)\", y=\"KL\", data=dfkullback_leibler, ax=ax[1])\n",
    "ax[1].set_title('Kullback-Leibler')"
   ]
  },
  {
   "cell_type": "code",
   "execution_count": 452,
   "metadata": {},
   "outputs": [
    {
     "data": {
      "text/html": [
       "<div>\n",
       "<style scoped>\n",
       "    .dataframe tbody tr th:only-of-type {\n",
       "        vertical-align: middle;\n",
       "    }\n",
       "\n",
       "    .dataframe tbody tr th {\n",
       "        vertical-align: top;\n",
       "    }\n",
       "\n",
       "    .dataframe thead th {\n",
       "        text-align: right;\n",
       "    }\n",
       "</style>\n",
       "<table border=\"1\" class=\"dataframe\">\n",
       "  <thead>\n",
       "    <tr style=\"text-align: right;\">\n",
       "      <th></th>\n",
       "      <th>P(x=1)</th>\n",
       "      <th>H_pq</th>\n",
       "    </tr>\n",
       "  </thead>\n",
       "  <tbody>\n",
       "    <tr>\n",
       "      <th>0</th>\n",
       "      <td>0.00</td>\n",
       "      <td>34.538776</td>\n",
       "    </tr>\n",
       "    <tr>\n",
       "      <th>1</th>\n",
       "      <td>0.01</td>\n",
       "      <td>34.193389</td>\n",
       "    </tr>\n",
       "    <tr>\n",
       "      <th>2</th>\n",
       "      <td>0.02</td>\n",
       "      <td>33.848001</td>\n",
       "    </tr>\n",
       "    <tr>\n",
       "      <th>3</th>\n",
       "      <td>0.03</td>\n",
       "      <td>33.502613</td>\n",
       "    </tr>\n",
       "    <tr>\n",
       "      <th>4</th>\n",
       "      <td>0.04</td>\n",
       "      <td>33.157225</td>\n",
       "    </tr>\n",
       "  </tbody>\n",
       "</table>\n",
       "</div>"
      ],
      "text/plain": [
       "   P(x=1)       H_pq\n",
       "0    0.00  34.538776\n",
       "1    0.01  34.193389\n",
       "2    0.02  33.848001\n",
       "3    0.03  33.502613\n",
       "4    0.04  33.157225"
      ]
     },
     "execution_count": 452,
     "metadata": {},
     "output_type": "execute_result"
    }
   ],
   "source": [
    "dfcross_entropy.head()"
   ]
  },
  {
   "cell_type": "code",
   "execution_count": null,
   "metadata": {},
   "outputs": [],
   "source": []
  }
 ],
 "metadata": {
  "kernelspec": {
   "display_name": "Python 3",
   "language": "python",
   "name": "python3"
  },
  "language_info": {
   "codemirror_mode": {
    "name": "ipython",
    "version": 3
   },
   "file_extension": ".py",
   "mimetype": "text/x-python",
   "name": "python",
   "nbconvert_exporter": "python",
   "pygments_lexer": "ipython3",
   "version": "3.8.3"
  }
 },
 "nbformat": 4,
 "nbformat_minor": 4
}
