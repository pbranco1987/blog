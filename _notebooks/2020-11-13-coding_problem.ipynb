{
 "cells": [
  {
   "cell_type": "markdown",
   "metadata": {},
   "source": [
    "# \"Generalized Linear Models: A Statistical View of Data\"\n",
    "> \"This article explores the concept of Generalized Linear Models. We present in this post John Nelder's theory, which informs us that behind many regression and classification problems there lies a common framework. We will explore the commonalities between many different problems, including linear regression, logistic regression, and Poisson regression.\"\n",
    "\n",
    "- toc: true\n",
    "- branch: master\n",
    "- bibliography: true\n",
    "- math: true\n",
    "- badges: true\n",
    "- comments: true\n",
    "- categories: [Tutorial, Probability Distribution Functions, Exponential Family, Regression, Classification, Gaussian, Bernoulli]\n",
    "- image: images/camacho.png\n",
    "- hide: false\n",
    "- search_exclude: true\n",
    "- metadata_key1: metadata_value1\n",
    "- metadata_key2: metadata_value2"
   ]
  },
  {
   "cell_type": "markdown",
   "metadata": {},
   "source": [
    "## Introduction"
   ]
  },
  {
   "cell_type": "markdown",
   "metadata": {},
   "source": [
    "## Exponential Distribution Family"
   ]
  },
  {
   "cell_type": "markdown",
   "metadata": {},
   "source": [
    "## Response and Link Functions"
   ]
  },
  {
   "cell_type": "markdown",
   "metadata": {},
   "source": [
    "## Examples"
   ]
  },
  {
   "cell_type": "markdown",
   "metadata": {},
   "source": [
    "## References"
   ]
  },
  {
   "cell_type": "code",
   "execution_count": null,
   "metadata": {},
   "outputs": [],
   "source": []
  }
 ],
 "metadata": {
  "kernelspec": {
   "display_name": "Python 3",
   "language": "python",
   "name": "python3"
  },
  "language_info": {
   "codemirror_mode": {
    "name": "ipython",
    "version": 3
   },
   "file_extension": ".py",
   "mimetype": "text/x-python",
   "name": "python",
   "nbconvert_exporter": "python",
   "pygments_lexer": "ipython3",
   "version": "3.8.3"
  }
 },
 "nbformat": 4,
 "nbformat_minor": 4
}
